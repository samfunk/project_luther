{
 "cells": [
  {
   "cell_type": "markdown",
   "metadata": {
    "collapsed": true
   },
   "source": [
    "## Scraping Fed information from MarketWatch"
   ]
  },
  {
   "cell_type": "code",
   "execution_count": 1,
   "metadata": {
    "collapsed": true
   },
   "outputs": [],
   "source": [
    "import requests\n",
    "from bs4 import BeautifulSoup\n",
    "from selenium import webdriver\n",
    "from selenium.webdriver.common.keys import Keys\n",
    "import time\n",
    "import os\n",
    "\n",
    "chromedriver = '/Applications/chromedriver'\n",
    "os.environ['webdriver.chrome.driver'] = chromedriver\n"
   ]
  },
  {
   "cell_type": "markdown",
   "metadata": {},
   "source": [
    "#### Selenium cheat sheet"
   ]
  },
  {
   "cell_type": "code",
   "execution_count": 2,
   "metadata": {
    "collapsed": true
   },
   "outputs": [],
   "source": [
    "#x = driver.find_element_by_name('name')\n",
    "#x.send_keys('type a string' or Keys.RETURN)\n",
    "\n",
    "#button = driver.find_element_by_xpath('//tag[text()=\"TEXT\"]')\n",
    "#button.click()\n",
    "\n",
    "#button2 = driver.find_element_by_xpath('//tag[contains(@class_style_or_other_tag, \"=STRING\")]')\n",
    "#button2.click()\n",
    "#sometimes has /b at the end"
   ]
  },
  {
   "cell_type": "code",
   "execution_count": 3,
   "metadata": {},
   "outputs": [],
   "source": [
    "url = 'http://www.marketwatch.com'\n",
    "driver = webdriver.Chrome(chromedriver)\n",
    "driver.get(url)"
   ]
  },
  {
   "cell_type": "code",
   "execution_count": 32,
   "metadata": {
    "scrolled": true
   },
   "outputs": [],
   "source": [
    "path = '//a[@class=\"btn btn--outline btn--search\"]'\n",
    "driver.find_element_by_xpath(path).click()\n",
    "search = driver.find_element_by_class_name('search__input')\n",
    "search.send_keys('yellen')\n",
    "search.send_keys(Keys.RETURN)\n",
    "driver.find_element_by_id('refinesearchtoggle').click()\n",
    "driver.find_element_by_xpath('//input[@type=\"checkbox\"]').click()\n",
    "date = driver.find_element_by_id('bdv')\n",
    "date.click()\n",
    "date.send_keys('09/28/2017')\n",
    "driver.find_element_by_xpath('//input[@value=\"Search\"]').click()\n",
    "current_url = driver.current_url"
   ]
  },
  {
   "cell_type": "code",
   "execution_count": 33,
   "metadata": {
    "collapsed": true
   },
   "outputs": [],
   "source": [
    "soup = BeautifulSoup(requests.get(current_url).text, 'html.parser')"
   ]
  },
  {
   "cell_type": "code",
   "execution_count": 42,
   "metadata": {
    "collapsed": true
   },
   "outputs": [],
   "source": [
    "links = []\n",
    "pages = soup.find_all(class_='searchresult')\n",
    "for div in pages:\n",
    "    links.append(div.a['href'])"
   ]
  },
  {
   "cell_type": "code",
   "execution_count": 52,
   "metadata": {},
   "outputs": [
    {
     "name": "stdout",
     "output_type": "stream",
     "text": [
      "[<p>Boston Fed President Eric Rosengren on Wednesday came down on the side of further interest-rate hikes, saying they would be a form of insurance against the possibility of an overheated economy.</p>, <p>Current economic trends suggest an economy “that risks pushing past what is sustainable,” Rosengren said in a speech to The Money Marketeers of New York University. This could result in higher asset prices, or inflation well above the Fed’s 2% target, he warned.</p>, <p>“Steps lowering the probability of such an outcome seem advisable — in other words, seem like insurance worth taking out at this time,” he said.</p>, <p>“As a result, it is my view that regular and gradual removal of monetary accommodation seems appropriate,” he added.</p>, <p>Fed Chairwoman Janet Yellen said Tuesday she intends to keep raising interest rates gradually even though inflation has softened so far this year. She has the support of most of the central bank’s top officials. </p>, <p>A small minority wants the Fed to wait until inflation returns to the central bank’s 2% target, or at least shows signs of moving in that direction. </p>, <p>In his remarks, Rosengren put himself squarely in Yellen’s camp.</p>, <p>He said that recent weakness in inflation readings appears to be “transitory,” although this may not be obvious until next spring, when one-time declines drop out of the annual averages.</p>, <p>In contrast, the declines in the unemployment rate seem sustainable, and should result in higher wages and prices over time, he said.</p>]\n"
     ]
    }
   ],
   "source": [
    "a = links[0]\n",
    "driver = webdriver.Chrome(chromedriver)\n",
    "driver.get(a)\n",
    "soup = BeautifulSoup(requests.get(a).text, 'html.parser')\n",
    "paragraphs = soup.find(id='article-body').find_all('p')\n",
    "print(paragraphs)\n"
   ]
  },
  {
   "cell_type": "code",
   "execution_count": 54,
   "metadata": {
    "scrolled": true
   },
   "outputs": [],
   "source": [
    "def search_links(links):\n",
    "    articles = []\n",
    "    for url in links:\n",
    "        driver = webdriver.Chrome(chromedriver)\n",
    "        driver.get(url)\n",
    "        soup = BeautifulSoup(requests.get(url).text, 'html.parser')\n",
    "        paragraphs = soup.find(id='article-body').find_all('p')\n",
    "        articles.append(paragraphs)\n",
    "        driver.close\n",
    "search_links(links)"
   ]
  },
  {
   "cell_type": "code",
   "execution_count": 55,
   "metadata": {},
   "outputs": [
    {
     "name": "stdout",
     "output_type": "stream",
     "text": [
      "<div class=\"searchresult\">\n",
      "<a href=\"http://www.marketwatch.com/story/feds-rosengren-backs-regular-and-gradual-interest-rate-hikes-2017-09-27\">Fed’s Rosengren backs ‘regular and gradual’ interest-rate hikes</a>\n",
      "</div>\n",
      "<div class=\"searchresult\">\n",
      "<a href=\"http://www.marketwatch.com/story/us-stocks-set-to-open-higher-but-nike-nosedives-after-earnings-2017-09-27\">Dow snaps 4-day losing streak; financials, tax-cut hopes provide lift</a>\n",
      "</div>\n",
      "<div class=\"searchresult\">\n",
      "<a href=\"http://www.marketwatch.com/story/is-trumps-tax-proposal-driving-the-bond-market-selloff-2017-09-27\">Is Trump’s tax proposal driving the bond market selloff?</a>\n",
      "</div>\n",
      "<div class=\"searchresult\">\n",
      "<a href=\"http://www.marketwatch.com/story/dollar-index-jumps-to-1-month-high-ahead-of-gop-tax-plan-2017-09-27\">Dollar index hits 1-month high as Republican tax-plan details emerge</a>\n",
      "</div>\n",
      "<div class=\"searchresult\">\n",
      "<a href=\"http://www.marketwatch.com/story/treasury-yields-jump-as-traders-position-for-higher-rates-2017-09-27\">10-year Treasury yield jumps most in six months as details of tax reform emerge</a>\n",
      "</div>\n",
      "<div class=\"searchresult\">\n",
      "<a href=\"http://www.marketwatch.com/story/russell-2000-jumps-to-record-on-track-for-best-day-since-june-2017-09-27\">Russell 2000 jumps to record, on track for best day since June</a>\n",
      "</div>\n",
      "<div class=\"searchresult\">\n",
      "<a href=\"http://www.marketwatch.com/story/gold-at-fresh-lows-for-the-month-as-dollars-win-streak-expands-2017-09-27\">Gold marks fresh September low as dollar gains</a>\n",
      "</div>\n",
      "<div class=\"searchresult\">\n",
      "<a href=\"http://www.marketwatch.com/story/feds-bullard-sees-no-need-to-raise-interest-rates-anytime-soon-2017-09-27\">Fed’s Bullard sees no need to raise interest rates anytime soon</a>\n",
      "</div>\n",
      "<div class=\"searchresult\">\n",
      "<a href=\"http://www.marketwatch.com/story/european-stocks-jump-to-10-week-high-led-by-alstom-after-siemens-deal-2017-09-27\">European stocks jump to 10-week high as banks rally</a>\n",
      "</div>\n",
      "<div class=\"searchresult\">\n",
      "<a href=\"http://www.marketwatch.com/story/ftse-100-set-to-break-2-day-losing-run-as-pound-slides-miners-rise-2017-09-27\">FTSE 100 breaks 2-day losing run as pound slides</a>\n",
      "</div>\n",
      "<div class=\"searchresult\">\n",
      "<a href=\"http://www.marketwatch.com/story/financial-etf-surges-to-a-decade-high-as-fed-data-help-boost-treasury-yields-2017-09-27\">Financial ETF surges to a decade high as Fed, data help boost Treasury yields</a>\n",
      "</div>\n",
      "<div class=\"searchresult\">\n",
      "<a href=\"http://www.marketwatch.com/story/the-old-school-reason-why-you-havent-missed-the-tech-melt-up-2017-09-27\">The ‘old school’ reason why you haven’t missed the tech melt-up</a>\n",
      "</div>\n",
      "<div class=\"searchresult\">\n",
      "<a href=\"http://www.marketwatch.com/story/goldman-jp-morgan-stocks-power-early-rally-for-dow-industrials-2017-09-27\">Goldman, J.P. Morgan stocks power early rally for Dow industrials</a>\n",
      "</div>\n",
      "<div class=\"searchresult\">\n",
      "<a href=\"http://www.marketwatch.com/story/why-the-fed-trumps-north-korea-when-it-comes-to-financial-markets-2017-09-27\">Why the Fed trumps North Korea when it comes to financial markets</a>\n",
      "</div>\n",
      "<div class=\"searchresult\">\n",
      "<a href=\"http://www.marketwatch.com/story/asian-markets-unfazed-after-yellen-hints-at-rate-hikes-2017-09-26\">Asian markets unfazed after Yellen hints at rate hikes</a>\n",
      "</div>\n"
     ]
    }
   ],
   "source": [
    "for i in articles:\n",
    "    print(i)"
   ]
  },
  {
   "cell_type": "code",
   "execution_count": 5,
   "metadata": {},
   "outputs": [],
   "source": [
    "econ_politics_selector = '//a[contains(text(), \"Economy & Politics\")]'\n",
    "driver.find_element_by_xpath(econ_politics_selector).click()"
   ]
  },
  {
   "cell_type": "code",
   "execution_count": 6,
   "metadata": {
    "collapsed": true
   },
   "outputs": [],
   "source": [
    "the_fed = '//a[@href=\"/federal-reserve\"]'\n",
    "driver.find_element_by_xpath(the_fed).click()"
   ]
  }
 ],
 "metadata": {
  "kernelspec": {
   "display_name": "Python [default]",
   "language": "python",
   "name": "python3"
  },
  "language_info": {
   "codemirror_mode": {
    "name": "ipython",
    "version": 3
   },
   "file_extension": ".py",
   "mimetype": "text/x-python",
   "name": "python",
   "nbconvert_exporter": "python",
   "pygments_lexer": "ipython3",
   "version": "3.6.2"
  }
 },
 "nbformat": 4,
 "nbformat_minor": 2
}
