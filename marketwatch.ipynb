{
 "cells": [
  {
   "cell_type": "markdown",
   "metadata": {
    "collapsed": true
   },
   "source": [
    "## Scraping Fed information from MarketWatch"
   ]
  },
  {
   "cell_type": "code",
   "execution_count": 26,
   "metadata": {},
   "outputs": [],
   "source": [
    "import requests\n",
    "from bs4 import BeautifulSoup\n",
    "from selenium import webdriver\n",
    "from selenium.webdriver.common.keys import Keys\n",
    "import time\n",
    "import os\n",
    "from collections import defaultdict\n",
    "import re\n",
    "\n",
    "chromedriver = '/Applications/chromedriver'\n",
    "os.environ['webdriver.chrome.driver'] = chromedriver"
   ]
  },
  {
   "cell_type": "markdown",
   "metadata": {},
   "source": [
    "#### Selenium cheat sheet"
   ]
  },
  {
   "cell_type": "code",
   "execution_count": 27,
   "metadata": {
    "collapsed": true
   },
   "outputs": [],
   "source": [
    "#x = driver.find_element_by_name('name')\n",
    "#x.send_keys('type a string' or Keys.RETURN)\n",
    "\n",
    "#button = driver.find_element_by_xpath('//tag[text()=\"TEXT\"]')\n",
    "#button.click()\n",
    "\n",
    "#button2 = driver.find_element_by_xpath('//tag[contains(@class_style_or_other_tag, \"=STRING\")]')\n",
    "#button2.click()\n",
    "#sometimes has /b at the end"
   ]
  },
  {
   "cell_type": "code",
   "execution_count": 39,
   "metadata": {
    "collapsed": true
   },
   "outputs": [],
   "source": [
    "url = 'http://www.marketwatch.com'\n",
    "driver = webdriver.Chrome(chromedriver)\n",
    "driver.get(url)"
   ]
  },
  {
   "cell_type": "code",
   "execution_count": 40,
   "metadata": {
    "scrolled": true
   },
   "outputs": [],
   "source": [
    "#Search 'yellen'\n",
    "path = '//a[@class=\"btn btn--outline btn--search\"]'\n",
    "driver.find_element_by_xpath(path).click()\n",
    "search = driver.find_element_by_class_name('search__input')\n",
    "search.send_keys('yellen')\n",
    "search.send_keys(Keys.RETURN)\n",
    "\n",
    "#Advanced Searcb\n",
    "driver.find_element_by_id('refinesearchtoggle').click()\n",
    "driver.find_element_by_xpath('//input[@type=\"checkbox\"]').click()\n",
    "\n",
    "#Set Subject\n",
    "search_mode = '//select[@id=\"m\"]/option[@value=\"Subject\"]'\n",
    "driver.find_element_by_xpath(search_mode).click()\n",
    "\n",
    "#Results Per Page\n",
    "results = '//select[@id=\"rpp\"]/option[@value=\"50\"]'\n",
    "driver.find_element_by_xpath(results).click()\n",
    "\n",
    "#Economic News\n",
    "search_mode = '//select[@id=\"mp\"]/option[@value=\"ECAT\"]'\n",
    "driver.find_element_by_xpath(search_mode).click()\n",
    "\n",
    "#Set date\n",
    "date = driver.find_element_by_id('bdv')\n",
    "date.click()\n",
    "date.send_keys('09/28/2017')\n",
    "\n",
    "#Search\n",
    "driver.find_element_by_xpath('//input[@value=\"Search\"]').click()\n",
    "current_url = driver.current_url"
   ]
  },
  {
   "cell_type": "code",
   "execution_count": 46,
   "metadata": {
    "collapsed": true
   },
   "outputs": [],
   "source": [
    "soup = BeautifulSoup(requests.get(current_url).text, 'html.parser')"
   ]
  },
  {
   "cell_type": "code",
   "execution_count": 47,
   "metadata": {
    "collapsed": true
   },
   "outputs": [],
   "source": [
    "links = dict()\n",
    "pages = soup.find_all(class_='searchresult')\n",
    "for div in pages:\n",
    "    attrs = dict()\n",
    "    attrs['url'] = div.a['href']\n",
    "    attrs['date'] = div.next_sibling.span.text\n",
    "    links[div.a.text] = attrs"
   ]
  },
  {
   "cell_type": "code",
   "execution_count": 48,
   "metadata": {},
   "outputs": [
    {
     "data": {
      "text/plain": [
       "{'2-year Treasury yield is highest since 2008': {'date': '4:49 p.m. Sept. 21, 2017',\n",
       "  'url': 'http://www.marketwatch.com/story/2-year-treasury-yield-holds-around-highest-level-since-2008-2017-09-21'},\n",
       " '2-year Treasury yield records longest string of gains in 2 months': {'date': '4:31 p.m. Sept. 14, 2017',\n",
       "  'url': 'http://www.marketwatch.com/story/treasury-yields-tick-higher-as-consumer-inflation-data-looms-2017-09-14'},\n",
       " 'A sexist view of marriage and why the world is running out of antibiotics': {'date': '5:25 p.m. Sept. 20, 2017',\n",
       "  'url': 'http://www.marketwatch.com/story/a-sexist-view-of-marriage-and-why-the-world-is-running-out-of-antibiotics-2017-09-20'},\n",
       " 'Currency war talk restarts after Jackson Hole': {'date': '4:06 p.m. Aug. 30, 2017',\n",
       "  'url': 'http://www.marketwatch.com/story/currency-war-talk-restarts-after-jackson-hole-2017-08-30'},\n",
       " 'Dollar holds on to gains after Yellen reiterates case for rate hikes': {'date': '4:12 p.m. Sept. 26, 2017',\n",
       "  'url': 'http://www.marketwatch.com/story/dollar-jumps-to-1-month-high-vs-euro-ahead-of-yellen-speech-2017-09-26'},\n",
       " 'Dollar index hits 1-month high as Republican tax-plan details emerge': {'date': '4:55 p.m. Sept. 27, 2017',\n",
       "  'url': 'http://www.marketwatch.com/story/dollar-index-jumps-to-1-month-high-ahead-of-gop-tax-plan-2017-09-27'},\n",
       " 'Dollar slips against yen on North Korea comments': {'date': '4:39 p.m. Sept. 25, 2017',\n",
       "  'url': 'http://www.marketwatch.com/story/euro-weakens-after-german-election-results-2017-09-25'},\n",
       " 'Economists back Yellen for second term at Fed and foresee December rate hike: WSJ': {'date': '11:08 a.m. Sept. 7, 2017',\n",
       "  'url': 'http://www.marketwatch.com/story/economists-back-yellen-for-second-term-see-december-rate-hike-wsj-2017-09-07'},\n",
       " 'European stocks jump to 10-week high as banks rally': {'date': '1:06 p.m. Sept. 27, 2017',\n",
       "  'url': 'http://www.marketwatch.com/story/european-stocks-jump-to-10-week-high-led-by-alstom-after-siemens-deal-2017-09-27'},\n",
       " 'European stocks waver as traders brace for Fed policy update': {'date': '12:07 p.m. Sept. 19, 2017',\n",
       "  'url': 'http://www.marketwatch.com/story/european-stocks-slip-as-traders-wait-for-fed-rate-update-2017-09-19'},\n",
       " 'FTSE 100 breaks 2-day losing run as pound slides': {'date': '12:43 p.m. Sept. 27, 2017',\n",
       "  'url': 'http://www.marketwatch.com/story/ftse-100-set-to-break-2-day-losing-run-as-pound-slides-miners-rise-2017-09-27'},\n",
       " 'Fed may have to slow interest-rate hikes given subdued inflation: Brainard': {'date': '9:31 a.m. Sept. 5, 2017',\n",
       "  'url': 'http://www.marketwatch.com/story/fed-may-have-to-slow-interest-rate-hikes-given-subdued-inflation-brainard-2017-09-05'},\n",
       " 'Fed to take historic leap into the unknown': {'date': '9:54 a.m. Sept. 20, 2017',\n",
       "  'url': 'http://www.marketwatch.com/story/fed-to-take-historic-leap-into-the-unknown-2017-09-14'},\n",
       " 'Fed’s Bostic, in first speech, says he’s skeptical of common excuses for low inflation': {'date': '12:35 p.m. Sept. 26, 2017',\n",
       "  'url': 'http://www.marketwatch.com/story/feds-bostic-in-first-speech-says-hes-skeptical-of-common-excuses-for-low-inflation-2017-09-26'},\n",
       " 'Fed’s Bullard sees no need to raise interest rates anytime soon': {'date': '2:08 p.m. Sept. 27, 2017',\n",
       "  'url': 'http://www.marketwatch.com/story/feds-bullard-sees-no-need-to-raise-interest-rates-anytime-soon-2017-09-27'},\n",
       " 'Fed’s Dudley shows no signs of wavering from support for December interest-rate hike': {'date': '8:11 p.m. Sept. 7, 2017',\n",
       "  'url': 'http://www.marketwatch.com/story/feds-dudley-shows-no-signs-of-wavering-from-support-for-december-interest-rate-hike-2017-09-07'},\n",
       " 'Fed’s Rosengren backs ‘regular and gradual’ interest-rate hikes': {'date': '7:00 p.m. Sept. 27, 2017',\n",
       "  'url': 'http://www.marketwatch.com/story/feds-rosengren-backs-regular-and-gradual-interest-rate-hikes-2017-09-27'},\n",
       " 'Fed’s Yellen says low inflation a ‘mystery,’ but not mysterious enough to keep rates low': {'date': '10:36 a.m. Sept. 21, 2017',\n",
       "  'url': 'http://www.marketwatch.com/story/feds-yellen-says-low-inflation-a-mystery-but-not-mysterious-enough-to-keep-rates-low-2017-09-20'},\n",
       " 'Fed’s balance-sheet unwind will be moment of truth for financial markets': {'date': '9:38 a.m. Sept. 19, 2017',\n",
       "  'url': 'http://www.marketwatch.com/story/feds-balance-sheet-unwind-will-be-moment-of-truth-for-financial-markets-2017-09-18'},\n",
       " 'Fed’s departing Fischer remembered as ‘stalwart’ amidst central bank turmoil': {'date': '2:37 a.m. Sept. 7, 2017',\n",
       "  'url': 'http://www.marketwatch.com/story/teacher-to-bernanke-and-draghi-fischer-remembered-as-giant-in-field-2017-09-06'},\n",
       " 'Gold ends below $1,300 for first time in September after Fed’s rate-hike hint': {'date': '2:17 p.m. Sept. 21, 2017',\n",
       "  'url': 'http://www.marketwatch.com/story/gold-slides-below-1300-after-feds-rate-hike-hint-2017-09-21'},\n",
       " 'Here’s why the rising euro is defying Mario Draghi and the ECB': {'date': '4:20 p.m. Sept. 7, 2017',\n",
       "  'url': 'http://www.marketwatch.com/story/heres-why-the-rising-euro-is-defying-mario-draghi-and-the-ecb-2017-09-07'},\n",
       " 'Hey, Fed boss Janet Yellen, inflation is still low and stocks are soaring — what say you?': {'date': '10:30 a.m. Sept. 20, 2017',\n",
       "  'url': 'http://www.marketwatch.com/story/hey-fed-boss-janet-yellen-inflation-is-still-low-and-stocks-are-soaring-what-say-you-2017-09-18'},\n",
       " 'If Trump gets 3% growth, only the stock market will be cheering': {'date': '12:41 p.m. Sept. 12, 2017',\n",
       "  'url': 'http://www.marketwatch.com/story/if-trump-gets-3-growth-only-the-stock-market-will-be-cheering-2017-09-11'},\n",
       " 'Investors fear a Fed policy misstep as central bank reaffirms rate-hike trajectory': {'date': '3:25 p.m. Sept. 21, 2017',\n",
       "  'url': 'http://www.marketwatch.com/story/investors-fear-a-fed-policy-misstep-as-central-bank-reaffirms-rate-hike-trajectory-2017-09-21'},\n",
       " 'Is Trump’s tax overhaul driving the selloff in Treasurys?': {'date': '10:51 a.m.  Today10:51 a.m. Sept. 28, 2017',\n",
       "  'url': 'http://www.marketwatch.com/story/is-trumps-tax-proposal-driving-the-bond-market-selloff-2017-09-27'},\n",
       " 'Janet Yellen met with Ivanka Trump in July, calendar shows': {'date': '4:29 p.m. Sept. 11, 2017',\n",
       "  'url': 'http://www.marketwatch.com/story/janet-yellen-met-with-ivanka-trump-in-july-calendar-shows-2017-09-11'},\n",
       " 'Like P&G;, the Fed has an outdated business strategy': {'date': '6:02 a.m. Sept. 18, 2017',\n",
       "  'url': 'http://www.marketwatch.com/story/like-pg-the-fed-has-an-outdated-business-strategy-2017-09-18'},\n",
       " 'Looking for a cheap loan? Watch this inflation number to see where rates go next': {'date': '9:54 a.m. Sept. 25, 2017',\n",
       "  'url': 'http://www.marketwatch.com/story/looking-for-a-cheap-loan-watch-this-inflation-number-to-see-where-rates-go-next-2017-09-23'},\n",
       " 'New York Fed’s Dudley failed to disclose family ties to Wells Fargo': {'date': '3:15 p.m. Sept. 1, 2017',\n",
       "  'url': 'http://www.marketwatch.com/story/new-york-feds-dudley-failed-to-disclose-family-ties-to-wells-fargo-2017-09-01'},\n",
       " 'New era of uncertainty dawns in the stock market as Fed begins to taper QE': {'date': '3:15 p.m. Sept. 23, 2017',\n",
       "  'url': 'http://www.marketwatch.com/story/stock-market-entering-a-new-era-of-uncertainty-as-fed-begins-to-taper-qe-2017-09-23'},\n",
       " 'Overly complacent investors may be in for a rude Fed wake-up call': {'date': '9:33 a.m. Sept. 22, 2017',\n",
       "  'url': 'http://www.marketwatch.com/story/overly-complacent-investors-may-be-in-for-a-rude-fed-wake-up-call-2017-09-22'},\n",
       " 'Senior Republican senator says he thinks Trump will not reappoint Yellen to Fed': {'date': '2:27 p.m. Sept. 26, 2017',\n",
       "  'url': 'http://www.marketwatch.com/story/senior-republican-senator-says-he-thinks-trump-will-not-reappoint-yellen-to-fed-2017-09-26'},\n",
       " \"Short-dated Treasury yields tip higher after Fischer's resignation\": {'date': '10:57 a.m. Sept. 6, 2017',\n",
       "  'url': 'http://www.marketwatch.com/story/short-dated-treasury-yields-tip-higher-after-fischers-resignation-2017-09-06'},\n",
       " 'Still on course: Fed signals one more rate hike in 2017': {'date': '4:31 p.m. Sept. 20, 2017',\n",
       "  'url': 'http://www.marketwatch.com/story/still-on-course-fed-signals-one-more-rate-hike-in-2017-2017-09-20'},\n",
       " 'Text of September FOMC statement': {'date': '2:02 p.m. Sept. 20, 2017',\n",
       "  'url': 'http://www.marketwatch.com/story/text-of-september-fomc-statement-2017-09-20'},\n",
       " 'The ‘old school’ reason why you haven’t missed the tech melt-up': {'date': '10:20 a.m. Sept. 27, 2017',\n",
       "  'url': 'http://www.marketwatch.com/story/the-old-school-reason-why-you-havent-missed-the-tech-melt-up-2017-09-27'},\n",
       " 'Tough questions for your adviser and what makes children more likely to cheat': {'date': '4:21 p.m. Sept. 18, 2017',\n",
       "  'url': 'http://www.marketwatch.com/story/tough-questions-for-your-adviser-and-what-makes-children-more-likely-to-cheat-2017-09-18'},\n",
       " 'Treasury yields extend rise as investors await Fed meeting': {'date': '5:49 p.m. Sept. 18, 2017',\n",
       "  'url': 'http://www.marketwatch.com/story/treasury-yields-slightly-higher-as-investors-expect-fed-to-wind-down-balance-sheet-2017-09-18'},\n",
       " 'Treasury yields jump after Fed signals support for another rate hike in 2017': {'date': '5:09 p.m. Sept. 20, 2017',\n",
       "  'url': 'http://www.marketwatch.com/story/treasury-yields-mostly-unchanged-ahead-of-fed-policy-announcement-2017-09-20'},\n",
       " 'Treasury yields rise for the week as Fed displays hawkish feathers': {'date': '4:02 p.m. Sept. 22, 2017',\n",
       "  'url': 'http://www.marketwatch.com/story/treasury-prices-boosted-as-north-korean-tensions-flare-up-2017-09-22'},\n",
       " 'Treasury yields rise from 10-month lows after deal to extend debt-ceiling deadline': {'date': '4:35 p.m. Sept. 6, 2017',\n",
       "  'url': 'http://www.marketwatch.com/story/treasury-yields-mostly-flat-ahead-of-ism-services-gauge-2017-09-06'},\n",
       " \"Trump says he likes and respects Yellen but hasn't made up his mind yet about top Fed job\": {'date': '3:51 p.m. Sept. 14, 2017',\n",
       "  'url': 'http://www.marketwatch.com/story/trump-says-he-likes-and-respects-yellen-but-hasnt-made-up-his-mind-yet-about-top-fed-job-2017-09-14'},\n",
       " 'Trump’s ability to control Fed sped up by Fischer resignation': {'date': '3:42 p.m. Sept. 6, 2017',\n",
       "  'url': 'http://www.marketwatch.com/story/trump-ability-to-control-fed-sped-up-by-fischer-resignation-2017-09-06'},\n",
       " 'Tune in Tuesday morning to hear the thinking of the Fed’s inner circle': {'date': '5:04 a.m. Sept. 5, 2017',\n",
       "  'url': 'http://www.marketwatch.com/story/tune-in-early-tuesday-morning-to-hear-the-thinking-of-the-feds-inner-circle-2017-09-01'},\n",
       " 'Vice Chairman Stanley Fischer announces resignation from the Fed': {'date': '5:26 p.m. Sept. 6, 2017',\n",
       "  'url': 'http://www.marketwatch.com/story/vice-chairman-stanley-fischer-announces-resignation-from-the-fed-2017-09-06'},\n",
       " 'What to expect from the Fed’s new dot plot': {'date': '9:52 a.m. Sept. 20, 2017',\n",
       "  'url': 'http://www.marketwatch.com/story/what-to-expect-from-the-feds-new-dot-plot-2017-09-19'},\n",
       " 'Why the bond market isn’t freaking out from the Fed’s shift to quantitative tightening': {'date': '9:49 a.m. Sept. 20, 2017',\n",
       "  'url': 'http://www.marketwatch.com/story/why-the-bond-market-isnt-freaking-out-from-the-feds-shift-to-quantitative-tightening-2017-09-14'},\n",
       " 'Why the tech bulls need to step up big time today': {'date': '9:36 a.m. Sept. 26, 2017',\n",
       "  'url': 'http://www.marketwatch.com/story/why-tech-bulls-need-to-step-up-big-time-today-2017-09-26'},\n",
       " 'Yellen says Fed should be ‘wary’ of raising rates ‘too gradually’': {'date': '3:54 p.m. Sept. 26, 2017',\n",
       "  'url': 'http://www.marketwatch.com/story/yellen-says-fed-should-be-wary-of-raising-rates-too-gradually-2017-09-26'}}"
      ]
     },
     "execution_count": 48,
     "metadata": {},
     "output_type": "execute_result"
    }
   ],
   "source": [
    "links"
   ]
  },
  {
   "cell_type": "code",
   "execution_count": 7,
   "metadata": {
    "scrolled": true
   },
   "outputs": [],
   "source": [
    "def search_links(links):\n",
    "    for name, attrs in links.items():\n",
    "        driver = webdriver.Chrome(chromedriver)\n",
    "        driver.get(attrs['url'])\n",
    "        soup = BeautifulSoup(requests.get(attrs['url']).text, 'html.parser')\n",
    "        paragraphs = soup.find(id='article-body').find_all('p')\n",
    "        attrs.update({'content': [' '.join(t.split()) for t in [''.join(p.find_all(text=True)) for p in paragraphs if bool(p.findChildren('strong')) == False]]})\n",
    "        driver.close\n",
    "    return links\n",
    "articles = search_links(links)"
   ]
  },
  {
   "cell_type": "code",
   "execution_count": 8,
   "metadata": {
    "scrolled": true
   },
   "outputs": [
    {
     "data": {
      "text/plain": [
       "{'10-year Treasury yield jumps most in six months as details of tax reform emerge': {'content': ['U.S. Treasury prices retreated further on Wednesday, driving yields higher, after the White House unveiled further details of its plan to overhaul the tax code, reviving the so-called reflation trade that was underpinned by hopes that President Donald Trump’s fiscal agenda would stoke inflation pressures.',\n",
       "   'Investors also sold their holdings of government paper after Federal Reserve Chairwoman Janet Yellen on Tuesday outlined the Fed’s reasoning for an additional rate increase this year. Fed funds futures traders are pricing close to an 80% chance of another rate increase in 2017, compared with about 38% a month ago, according to CME Group data.',\n",
       "   'Long-dated bonds led the action, with the 10-year note yield and the 30-year bond yield posting their biggest one day jump since March. 1. The 10-year Treasury yield TMUBMUSD10Y, +0.00% climbed 8 basis points to 2.309%. Likewise, the 30-year bond yield TMUBMUSD30Y, +0.37% added 9.2 basis points to 2.862%. The 2-year Treasury note yield TMUBMUSD02Y, -1.07% which is more sensitive to shifts in rate expectations, rose 2.8 basis points to 1.483%, its highest since Oct. 2008. Yields and bond prices move in opposite directions.',\n",
       "   'In Europe, the German 10-year government bond took a cue from the U.S., rising more than 6 basis points to hit 0.466%. Part of the move was driven by reports that German Finance minister Wolfgang Schäuble would leave his position to become the next president of the country’s parliamentary body. He has been a critic of the European Central Bank’s loose monetary policy.',\n",
       "   'President Donald Trump and Republican leaders are proposing a cut in the top corporate tax rate to 20% from its current 35%, repealing the estate tax and eliminating state and local tax deduction as part of a sweeping overhaul of the U.S. tax code.',\n",
       "   '“With the bear steepening in the Treasurys market, its very much a fiscal-led move,” said Eric Stein, co-director of global income at Eaton Vance. A bear steepening refers to when long-dated yields rise much faster than shorter-dated yields, reflecting higher inflation expectations.',\n",
       "   'August durable-goods orders jumped 1.7%, topping the average forecast of economists surveyed by MarketWatch for a rise of 1%.',\n",
       "   'Pending home sales for August fell 2.6% to 106.3, the lowest reading since January 2016. Expectations were for a decline of 0.8%.',\n",
       "   'U.S. stock benchmarks are mixed, with the Dow Jones Industrial Average DJIA, +0.15% on track to snap a four-session skid, while gold futures GCZ7, +0.14% perceived as a haven asset saw a firm drop below $1,300 an ounce.'],\n",
       "  'url': 'http://www.marketwatch.com/story/treasury-yields-jump-as-traders-position-for-higher-rates-2017-09-27'},\n",
       " 'Dollar index hits 1-month high as Republican tax-plan details emerge': {'content': ['The greenback continued to rise on Wednesday, with a key dollar index jumping to its highest point in more than a month, riding a wave of appreciation helped by a weaker euro following last weekend’s German election.',\n",
       "   'Meanwhile, the Canadian dollar slipped after Bank of Canada Gov. Stephen Poloz sounded somewhat dovish in a speech.',\n",
       "   'The ICE U.S. Dollar Index DXY, -0.37% which measures the buck against a basket of six major rivals, climbed 0.5% to 93.417, trading around the highest levels since Aug. 23, according to FactSet data. The index has risen for three straight days. The WSJ U.S. Dollar index BUXX, -0.01% , which compares the dollar against 16 other currencies, also gained 0.5%, to 86.51.',\n",
       "   'Against the Canadian dollar USDCAD, +0.0080% the greenback soared to C$1.2476 — its highest since the beginning of the month — versus C$1.2347 late Tuesday.',\n",
       "   'The euro EURUSD, +0.0000% dropped to $1.1750 on Wednesday, down from $1.1795 late Tuesday in New York.',\n",
       "   'Against its Japanese counterpart USDJPY, -0.04% the dollar last fetched ¥112.76, up from ¥112.24 on Tuesday. Earlier, the U.S. currency traded above ¥113 for the first time since mid-July, according to FactSet data.',\n",
       "   'The British pound GBPUSD, +0.0000% also suffered against the dollar, buying $1.3385, down from $1.3460 on Tuesday.',\n",
       "   'The buck is at its highest level since mid-June against the Swiss franc USDCHF, +0.0206% last buying 0.9720 francs, versus 0.9686 francs late Tuesday.',\n",
       "   'Elsewhere, the greenback pushed to the highest level since July 11 against the Turkish lira USDTRY, +0.0197% , rising to 3.5768 lira per one U.S. dollar, compared with 3.5424 late Tuesday. The lira’s weakness is driven by political tensions, including the recent independence referendum in the Kurdistan region in Iraq, in which people overwhelmingly voted in favor of becoming an autonomous nation bordering Turkey, Iran and Iraq.',\n",
       "   'The dollar rally has largely been supported by hints from the Federal Reserve that interest rates will go up in December, and rise a few more times in 2018. Those expectations were strengthened Tuesday when Fed Chairwoman Janet Yellen reaffirmed expectations for a rate hike later in 2017, saying it would be “imprudent” to leave monetary policy on hold until inflation hits the central bank’s target.',\n",
       "   'Meanwhile, St. Louis Fed President James Bullard said he didn’t see reasons to raise key interest rates further anytime soon.',\n",
       "   'President Donald Trump gave a speech detailing his tax reform plan in Indiana later on in the session, which did little to unsettle FX markets, as he called for a tax cut for the middle class, as well as a territorial tax system that would make it easier to repatriate cash for businesses.',\n",
       "   'In Canada, Poloz talked about the Canadian central bank’s reliance on data as inflation remains suspiciously low across the developed world, adding that the bank would have to draw on more than just last month’s inflation numbers to make an informed policy decision.',\n",
       "   'As for the euro, while Chancellor Angela Merkel secured a fourth term in power in Germany, a significant drop in support for her party means coalition talks could be difficult and protracted, sparking uncertainty about the eurozone and the euro’s bull ride so far this year. Earlier Wednesday, news broke that Germany’s long-serving finance minister Wolfgang Schäuble is expected to take on the position of parliamentary president in the next administration.',\n",
       "   'This coming weekend, the Spanish region of Catalonia, around Barcelona, is slated to vote on its independence, despite having the election been declared illegal by Madrid.',\n",
       "   'If the euro weakness persists, settling in below the current $1.1730 level, it could mean that the euro has topped out for the medium term, said Omer Esiner, chief market strategist at Commonwealth Foreign Exchange.',\n",
       "   'In the U.S., durable goods orders for August beat expectations at 1.7%, compared with an expected 1% increase, while core capital goods orders came in with a 0.9% gain for the same month. Pending home sales slipped 2.6% in August, adding to a previous decline of 0.8% in July.'],\n",
       "  'url': 'http://www.marketwatch.com/story/dollar-index-jumps-to-1-month-high-ahead-of-gop-tax-plan-2017-09-27'},\n",
       " 'Dow snaps 4-day losing streak; financials, tax-cut hopes provide lift': {'content': ['U.S. stocks rose on Wednesday, with the Dow industrials ending a four-day losing streak and the small-cap Russell 2000 notching a record close as President Donald Trump and congressional Republicans touted a sweeping tax overhaul.',\n",
       "   'The Dow Jones Industrial Average DJIA, +0.18% rose 56.39 points, or 0.3%, to end at 22,340.71, erasing an earlier loss. The S&P 500 SPX, +0.12% rose 10.2 points, or 0.4%, to close at 2,507.04, less than 0.1% from a record close set last week. The index hit an all-time intraday high of 2,511.75 during the session.',\n",
       "   'The Nasdaq Composite Index COMP, +0.00% rose 73.10 points, or 1.2%, to 6,453.26.',\n",
       "   'The Russell 2000 RUT, +0.27% rose 27.95 points, or 1.9%, to close at 1,484.81 — posting a record close of its own — and marking the biggest one-day percentage gain since March 1.',\n",
       "   'Financials were the strongest sector of the day. The Financial Select Sector SPDR ETF XLF, +0.16% rose 1.2% and hit its highest level in nearly a decade.',\n",
       "   'Republican leaders unveiled a plan to overhaul the U.S. tax code that looks to sharply reduce tax rates on businesses and many individuals. One of the reasons markets have risen throughout 2017 is the prospect of tax reform passing, which is expected to be a tailwind for markets. However, the Republican-controlled Congress was unable to pass health-care reform despite several attempts and versions, and it is unclear how likely it was that tax-reform could be passed.',\n",
       "   'Also, Federal Reserve Chairwoman Janet Yellen on Tuesday said the central bank won’t dawdle with raising interest rates. The news was positive for banks, which typically do better in periods of higher rates, due to the positive impact they have on net interest margins.',\n",
       "   'However, St. Louis Fed President James Bullard said the economy was likely to remain on a slow-growth track with subdued inflation, meaning the Federal Reserve can hold interest rates steady.',\n",
       "   'With the Russell’s gain on the day, the index is up 5.7% in September, compared with the 1.4% rise of the S&P 500. In the year to date, the S&P 500 is up 12% versus the Russell’s 9.4% rise.',\n",
       "   'This ain’t your daddy’s stock market. The speed of these rotations straight murdering people. https://t.co/4xVs3FpApZ',\n",
       "   'The ICE U.S. Dollar Index DXY, -0.37% gained, building on Tuesday’s rise',\n",
       "   'Gold futures GCZ7, +0.16% lost ground, while oil futures CLX7, -1.05% ended higher as crude supplies unexpectedly declined.',\n",
       "   'European stocks SXXP, +0.19% rose, and Asian markets closed mixed.',\n",
       "   'Orders for durable goods rose 1.7% in August, beating forecasts for a 1% rise.',\n",
       "   'The National Association of Realtors’ pending home sales index fell 2.6% to 106.3, the group said Wednesday. That was the lowest reading since January 2016 and put the index 2.6% lower than its level a year ago.'],\n",
       "  'url': 'http://www.marketwatch.com/story/us-stocks-set-to-open-higher-but-nike-nosedives-after-earnings-2017-09-27'},\n",
       " 'European stocks jump to 10-week high as banks rally': {'content': ['European stocks advanced for a fifth straight session on Wednesday, with banks rising on expectations of higher U.S. interest rates and Alstom shares rallying after its rail merger with Siemens.',\n",
       "   'The Stoxx Europe Index SXXP, +0.19% added 0.4% to end at 385.62, marking its highest close since July 17, according to FactSet data.',\n",
       "   'The companies agreed to merge their rail operations, aiming to create a European giant with the scale to fight growing competitive threats from state-backed Chinese rivals.',\n",
       "   '“Siemens-Alstom targets annual synergies of €470 million after four years, which looks overly ambitious, in our view,” analysts at Deutsche Bank said in a note.',\n",
       "   '“Unlike car making, economies of scale are not significant in train production and many smaller tier-2 suppliers have actually proven very successful at winning tenders,” they added.',\n",
       "   'Meanwhile, France’s CAC 40 index PX1, +0.22% ended 0.3% higher at 5,281.96. Alstom isn’t listed in the benchmark French index.',\n",
       "   'In the U.K., the FTSE 100 index UKX, +0.13% rose 0.4% to 7,313.51, getting a boost from a weaker pound GBPUSD, +0.3885%',\n",
       "   'Spain’s IBEX 35 index DAX, +0.37% rose 1.8% to 10,368.90, for now shrugging off concerns about Catalonia’s independence referendum set for Sunday. The government in Madrid has said the vote is illegal and has ordered police deployed at polling stations to prevent people from voting, according to news reports.',\n",
       "   'The euro slide was then exacerbated by a rally in the dollar after Federal Reserve Chairwoman Janet Yellen on Tuesday reaffirmed expectations for a rate increase later in 2017, saying it would be “imprudent” to leave monetary policy on hold until inflation hits the central bank’s target.',\n",
       "   'The Yellen comments were also positive for banks, which typically do better in periods of higher interest rates as they can charge more for their loans. Hopes that U.S. President Donald Trump will announce a substantial tax overhaul later on Wednesday also helped the dollar and the financial sector, as it could provide the backbone for greater monetary tightening, analysts said.',\n",
       "   '“Despite the question marks over if and when Trump’s tax plans will take hold, the fact is that this at least provides a greater degree of confidence within the Fed that their stimulating mantle is going to be carried via fiscal means, thus lessening the importance of easy monetary policy,” said Joshua Mahony, market analyst at IG, in a note.',\n",
       "   'The Stoxx Europe 600 Banks Index FX7, +0.10% jumped 2% on Wednesday, its biggest one-day percentage gain since early July.',\n",
       "   'Ryanair Holdings PLC RY4C, -3.66% climbed 3.9%. The budget carrier said it’s canceling another 18,000 flights between November and March to “eliminate all risk of further flight cancellations.” The airline earlier September canceled around 2,100 flights for the autumn because it had messed up on pilots’ vacations.',\n",
       "   'Shares of Novo Nordisk AS NOVOB, -0.59% NVO, -0.48% added 0.6% after the drugmaker said its Tresiba treatment has been approved by the China Food and Drug Administration to treat diabetes in China.',\n",
       "   'Fortum Oyj FORTUM, +0.96% rose 0.9% after launching an €8 billion takeover offer for Uniper SE UN01, +0.11% Uniper shares fell 0.6%.',\n",
       "   'Shares of Electrolux AB ELUXB, +1.11% lost 4% after Goldman Sachs downgraded the Swedish home-appliance maker to neutral from buy.',\n",
       "   'Outside the Stoxx 600, shares of Carillion PLC CLLN, +14.22% soared 21% after reports a Middle Eastern bidder is preparing a takeover for the U.K. construction-projects company.'],\n",
       "  'url': 'http://www.marketwatch.com/story/european-stocks-jump-to-10-week-high-led-by-alstom-after-siemens-deal-2017-09-27'},\n",
       " 'European stocks notch 2-month high, but bank stocks pare heftier gain': {'content': ['European stocks booked their sixth straight win Thursday on the way to a two-month high, but bank stocks pared bigger gains as market momentum surrounding prospects for U.S. tax cuts ebbed.',\n",
       "   'Finishing firmly in the red were shares of Swedish apparel retailer H&M after a disappointing earnings report, while Ryanair Holdings PLC shares were dogged by troubles stemming from the carrier’s ongoing cancellation of hundreds of flights.',\n",
       "   'The Stoxx Europe Index SXXP, +0.19% closed up 0.2% to 386.36 after a choppy trading session. But that was enough to mark its longest winning streak since late April, according to FactSet data. Thursday’s settlement was also the highest since July 17. Industrial and tech stocks led gainers, while telecom and utility shares, among others, fell.',\n",
       "   'The index on Wednesday closed up 0.4%, aided by advances for bank stocks.',\n",
       "   'Bank stocks on Thursday ended higher overall, but the 1% intraday rise for the Stoxx Europe 600 Banks Index FX7, +0.10% was slimmed to a rise of 0.1%. Germany’s Deutsche Bank AG DBK, +2.05% DB, +2.47% closed up 2.7%, off session peak, and Spain’s Banco Santander SA SAN, +0.51% rose 0.5%. France’s Societe Generale SA GLE, +0.37% closed up 0.4% and the U.K.’s Barclays PLC BARC, +1.02% BCS, +1.08% tacked on 1%.',\n",
       "   'Bank stocks have risen this week as investors priced in the prospect of higher interest rates, as those mean that banks can charge more for their loans.',\n",
       "   'U.S. President Donald Trump’s tax cuts proposal presented on Wednesday was seen as reinforcing expectations for a rate rise in December.',\n",
       "   '“European markets have seen marginal gains today, as the optimism surrounding Trump’s tax plans seems to have run out of steam. With sharp gains for the likes of EURUSD and GBPUSD, it is clear that despite the potential bounty for the U.S. economy, there is a great deal of skepticism over the timing and ability to deliver such reforms,” IG Market Analyst Joshua Mahony wrote in a note.',\n",
       "   'The euro EURUSD, +0.3576% and the pound GBPUSD, +0.4034% marched higher during the session, and currency strength can weigh on shares of multinational companies that weigh heavily on European benchmarks.',\n",
       "   'Bank of England’s Chief Economist Andy Haldane, in a Sky News interview published late Wednesday, said a rise in borrowing costs would represent a “good news story” for the U.K. as it would reflect improvement in the British economy.',\n",
       "   'Haldane’s comments came as Boston Federal Reserve President Eric Rosengren late Wednesday said he backs ‘regular and gradual’ interest-rate rises. Federal Reserve Chairwoman Janet Yellen this week said she plans for the Fed to keep raising interest rates gradually even though inflation has softened.',\n",
       "   'Ryanair RY4C, -4.23% RYAAY, -5.61% was dragged down 3.7% as the airline faced legal action from a U.K. regulator, which said Wednesday that Ryanair is “persistently misleading passengers” about their rights following thousands of canceled flights across Europe.',\n",
       "   'Balfour Beatty PLC BBY, +5.63% leapt 5.6% after Peel Hunt upgraded the construction services company’s rating to buy, saying management has significantly reduced investment-related risks.',\n",
       "   'France’s CAC 40 index PX1, +0.22% ended up 0.2% at 5,293.77. Germany’s DAX DAX, +0.37% rose 0.4% to 12,704.65. In the U.K., the FTSE 100 index UKX, +0.13% notched a 0.1% rise at 7,322.82'],\n",
       "  'url': 'http://www.marketwatch.com/story/european-stocks-seesaw-around-10-week-high-as-banks-rise-hm-slides-2017-09-28'},\n",
       " 'FTSE 100 breaks 2-day losing run as pound slides': {'content': ['U.K. stocks finished higher for the first time this week on Wednesday, getting a boost from a weaker pound and a rally for miners.',\n",
       "   'The FTSE 100 UKX, +0.13% climbed 0.4% to end at 7,313.51, breaking a two-day losing run.',\n",
       "   'The gain “can be derived from a hawkish Fed Chair Yellen (and colleague Bostic) supporting continued gradual rate hikes (market implied probability of Dec rate hike now 70%),” said analysts at Accendo Markets in a note. Federal Reserve Chairwoman Janet Yellen and Atlanta Fed President Raphael Bostic, nonvoting member of the Fed, both hinted that a further rate hike in 2017 was likely.',\n",
       "   '“This has firmed the USD to the detriment of [pound] and [euro], but to the benefit of the both benchmarks’ internationals/exporters,” they added.',\n",
       "   'Sterling GBPUSD, +0.0074% was recently down at $1.3401 from $1.3460 on Tuesday, after trading as low as $1.3364. It has fallen further below the $1.36 level hit earlier in September. The recent rally—when the pound rose to the highest level against the dollar since the Brexit vote in June last year—came after hints from the Bank of England it was preparing to raise interest rates in coming months.',\n",
       "   'However, the U.S. Fed’s policy update last Wednesday points at a further rate increase in December, based on projection of the policy setter’s outlooks plotted on a chart, known as the dot-plot. That has helped strengthen the dollar against its rivals. On Tuesday, after European markets closed, Yellen said it would be “imprudent” to leave monetary policy on hold until inflation hits the central bank’s target.',\n",
       "   'Not all metals prices rose, however, as gold GCZ7, +0.16% fell 1%, dragging precious-metals miners lower. Shares of Randgold Resources Ltd. RRS, +0.68% GOLD, +0.62% lost 2.3% and Fresnillo PLC FRES, +0.21% fell 1.6%.',\n",
       "   'Royal Bank of Scotland Group PLC RBS, -1.62% was also among the notable gainers, rallying 3.4% after Jefferies analysts hiked their rating to buy from hold. RBS is likely to be the sector’s biggest beneficiary of an expected U.K. interest rate hike, according to Jefferies.',\n",
       "   'In other sectors, shares of SSE PLC SSE, -0.57% dropped 1.6%. The losses came after the utilities firm warned on profit due to reduced networks earnings.',\n",
       "   'Outside the FTSE 100, shares of Carillion PLC CLLN, +14.22% soared 21% after reports a Middle Eastern bidder is preparing a takeover for the construction-projects company.'],\n",
       "  'url': 'http://www.marketwatch.com/story/ftse-100-set-to-break-2-day-losing-run-as-pound-slides-miners-rise-2017-09-27'},\n",
       " 'Fed’s Bullard sees no need to raise interest rates anytime soon': {'content': ['The economy is likely to remain on a slow-growth track with subdued inflation, meaning the Federal Reserve can hold interest rates steady, St. Louis Fed President James Bullard said Wednesday.',\n",
       "   '“The current level of the policy rate is appropriate given current macroeconomic data,” Bullard said in a speech at Truman State University.',\n",
       "   'In his speech, Bullard addressed what he said were three central questions for interest-rate policy.',\n",
       "   'First, he said the U.S. economy would remain in a slow-growth 2% trench, even though second-quarter GDP data showed some improvement. Other recent data have come in weaker than expected and the hurricanes have caused substantial damage, he said.',\n",
       "   'Secondly, Bullard said he did not think the downside inflation surprise in the first half of the year would reverse over the rest of the year.',\n",
       "   'And lastly, the strong labor market would not put upward pressure on inflation, he added.',\n",
       "   'Bullard has forecast no more rate hikes through 2020. That puts him at the low end of the so-called dot plot that tracks policy-maker expectations, and at odds with Fed Chairwoman Janet Yellen.',\n",
       "   'On Tuesday, Yellen said she intends to keep raising interest rates gradually, saying it would be “imprudent” to keep monetary policy on hold until inflation is back to 2%.',\n",
       "   'Bullard will not be a voting member of the Fed’s policy committee until 2019.'],\n",
       "  'url': 'http://www.marketwatch.com/story/feds-bullard-sees-no-need-to-raise-interest-rates-anytime-soon-2017-09-27'},\n",
       " 'Fed’s Rosengren backs ‘regular and gradual’ interest-rate hikes': {'content': ['Boston Fed President Eric Rosengren on Wednesday came down on the side of further interest-rate hikes, saying they would be a form of insurance against the possibility of an overheated economy.',\n",
       "   'Current economic trends suggest an economy “that risks pushing past what is sustainable,” Rosengren said in a speech to The Money Marketeers of New York University. This could result in higher asset prices, or inflation well above the Fed’s 2% target, he warned.',\n",
       "   '“Steps lowering the probability of such an outcome seem advisable — in other words, seem like insurance worth taking out at this time,” he said.',\n",
       "   '“As a result, it is my view that regular and gradual removal of monetary accommodation seems appropriate,” he added.',\n",
       "   'Fed Chairwoman Janet Yellen said Tuesday she intends to keep raising interest rates gradually even though inflation has softened so far this year. She has the support of most of the central bank’s top officials.',\n",
       "   'A small minority wants the Fed to wait until inflation returns to the central bank’s 2% target, or at least shows signs of moving in that direction.',\n",
       "   'In his remarks, Rosengren put himself squarely in Yellen’s camp.',\n",
       "   'He said that recent weakness in inflation readings appears to be “transitory,” although this may not be obvious until next spring, when one-time declines drop out of the annual averages.',\n",
       "   'In contrast, the declines in the unemployment rate seem sustainable, and should result in higher wages and prices over time, he said.'],\n",
       "  'url': 'http://www.marketwatch.com/story/feds-rosengren-backs-regular-and-gradual-interest-rate-hikes-2017-09-27'},\n",
       " 'Financial ETF surges to a decade high as Fed, data help boost Treasury yields': {'content': [\"Bank stocks surged Wednesday, with the SPDR Financial Select Sector ETF XLF, +0.19% running up 1% to the highest level seen in nearly a decade, as hawkish comments from Federal Reserve Chairwoman Janet Yellen and upbeat data fueled a rise in Treasury yields. Among the financial sector tracker's (XLF) most heavily weighted components, shares of Goldman Sachs Group Inc. GS, +0.30% rallied $3.55, or 1.5%, and J.P. Morgan Chase & Co. JPM, +0.21% rose 95 cents, or 1.0%, to pace the Dow Jones Industrial Average djia advancers. The shares' gains were adding a combined 31 points to the Dow's price, which was up 10 points. Elsewhere, shares of Bank of America Corp. BAC, +0.16% climbed 2.1%, Citigroup Inc. C, +0.51% tacked on 1.8% and Wells Fargo & Co. WFC, +0.07% gained 0.6%. The XLF was on track to close at the highest level since Dec. 10, 2007.The yield on the 10-year Treasury note rose 7.4 basis points to a 2-month high of 2.303%. The higher yield can help boost bank profits, as it can increase the spread between what banks earn on longer-term assets like loans and the cost of shorter-term liabilities to fund those assets.\"],\n",
       "  'url': 'http://www.marketwatch.com/story/financial-etf-surges-to-a-decade-high-as-fed-data-help-boost-treasury-yields-2017-09-27'},\n",
       " 'Gold edges up from a 6-week low': {'content': ['Gold settled modestly higher Thursday, edging up after notching a six-week low as the U.S. dollar retreated from its highest level in a month.',\n",
       "   'The greenback, however, held on to a gain week to date, buoyed by expectations that the U.S. Federal Reserve will raise interest rates again this year.',\n",
       "   'Gold for December delivery GCZ7, +0.17% added 90 cents, or less than 0.1%, to settle at $1,288.70 an ounce. It settled Wednesday at its lowest since Aug. 16, according to FactSet data.',\n",
       "   '“Futures and options traders may be running scared of the Fed’s sudden claim of getting sober and preparing to raise rates, but private investors in physical gold don’t believe it,” said Adrian Ash, head of research at BullionVault. “They’re using this price drop to rebuild positions after taking profits over the summer.”',\n",
       "   'The ICE Dollar Index DXY, -0.36% which measures the buck against a basket of six rival currencies, was down 0.3% Thursday, but that’s after touching its highest levels since late August.',\n",
       "   'The dollar has seen overall strength on rising expectations the Fed will raise interest rates in December. A stronger dollar makes it more expensive for holders of other currencies to buy dollar-denominated commodities, such as gold.',\n",
       "   'Fed Chairwoman Janet Yellen earlier this week reaffirmed that December is still in play, saying it would be “imprudent” to leave monetary policy on hold until inflation hits the central bank’s target. Late Wednesday, Boston Fed President Eric Rosengren said he backs ‘regular and gradual’ interest-rate rises.',\n",
       "   'Additionally, the Republicans’ plans to lower the corporate tax rate from 35% to 20% was boosting the greenback on the prospect that—if approved—the tax cuts could boost the economy and provide the backbone for further tightening.',\n",
       "   'Looking ahead, “gold will rise if Chinese demand in upcoming holiday period beats street expectations,” said Chintan Karnani, chief market analyst at Insignia Consultants. As for North Korea, the market is seeing a “calm before the whirlpool,” but “gold will zoom if North Korea situation moves toward an armed conflict.”',\n",
       "   'In other metals, silver for December SIZ7, +0.46% rose by 2 cents, or 0.1%, to $16.847, while December copper HGZ7, +1.71% added 5.2 cents, or 1.8%, to $2.981 a pound. After settling Wednesday at the same price level for the first time since 2001, January platinum PLF8, +0.18% rose 20 cents to $925.70 an ounce and December palladium PAZ7, +0.46% added $2.35, or 0.3%, to $927.85 an ounce.',\n",
       "   'Among exchange-traded funds, the SPDR Gold Trust GLD, +0.19% rose by 0.2%, while the iShares Silver Trust SLV, +0.57% added 0.4%. The VanEck Vectors Gold Miners ETF GDX, +0.74% climbed 0.8%.'],\n",
       "  'url': 'http://www.marketwatch.com/story/gold-drops-to-6-week-low-as-dollar-continues-march-higher-2017-09-28'},\n",
       " 'Gold marks fresh September low as dollar gains': {'content': ['Gold fell for a second session Wednesday as stocks and the dollar moved higher and traders watched the rollout of a Republican plan to overhaul the U.S. tax code.',\n",
       "   'December gold GCZ7, +0.16% lost $13.90, or 1.1%, to settle at $1,287.80 and ounce, marking the lowest settlement since mid-August. The SPDR Gold Trust exchange-traded fund GLD, +0.19% moved 0.8% lower.',\n",
       "   '“Gold is currently showing no signs of support. For the second time in as many weeks, the metal is threatening to break the lower bound of key support between $1,290 and $1,295 [for spot pricing], an area which was formerly resistance,” said Fawad Razaqzada, technical analyst with Forex.com.',\n",
       "   'The U.S. dollar has extended a strengthening trend, with a key dollar index jumping to a more than one-month high ahead of the release of Republican tax-reform proposal.',\n",
       "   'The ICE Dollar Index DXY, -0.37% which measures the buck against a basket of six other currencies, climbed 0.4% to 93.349, trading around the highest levels since Aug. 23.',\n",
       "   'A strong dollar makes it more expensive for holders of other currencies to buy dollar-denominated gold.',\n",
       "   'The greenback found support after Federal Reserve Chairwoman Janet Yellen on Tuesday reinforced expectations for another U.S. interest-rate increase before the end of the year, which can diminish appetite for gold, which doesn’t bear a yield.',\n",
       "   'Upbeat data Wednesday helped to support expectations for another rate increase. Durable-goods orders for August came in a better-than expected 1.7% higher, versus an increase for 1%.',\n",
       "   'U.S. equities also traded mostly higher Wednesday, drawing investor interest away from gold as analysts said the stock market was stabilizing after a four-session skid for the Dow Jones Industrial Average DJIA, +0.18%',\n",
       "   'Meanwhile, platinum and palladium prices settled at the same value, marking the first time the most-active platinum and palladium contracts reached parity in almost 16 years, according to FactSet data.',\n",
       "   'January platinum PLF8, +0.21% shed $3.20, or 0.3%, to $925.50 an ounce. December palladium PAZ7, +0.46% finished at that same level, $925.50 an ounce, up $11.05, or 1.2%.'],\n",
       "  'url': 'http://www.marketwatch.com/story/gold-at-fresh-lows-for-the-month-as-dollars-win-streak-expands-2017-09-27'},\n",
       " 'Is Trump’s tax overhaul driving the selloff in Treasurys?': {'content': ['Treasurys saw sustained selling since Wednesday, with analysts and traders pegging the bearish moves to new details on President Donald Trump’s tax reform.',\n",
       "   'With more clarity on the exact policies Trump wants to see passed, the recent progress could placate investors who have complained that his legislative proposals have been too vague so far. If Trump manages to push his tax plan through Congress, it could stoke inflation pressures, eroding demand for Treasurys.',\n",
       "   'Yet the strength of the selling pressure seen mid-week suggested other forces might also be at work. After all, bond investors have been blasé about tax reform after observing Trump has had trouble pushing his desired legislation through Congress, even when the Republicans control the House, Senate and White House. It’s still not clear if the proposal in its current form is much more different or even politically viable than previous iterations.',\n",
       "   '“The proposal is simply a more exacting version of Trump’s tax reform ‘wish list’ that has been floated several times. It’s always folly to presume that precision implies accuracy and we fear that’s what the markets are currently trading,” wrote Ian Lyngen and Aaron Kohli, interest-rate strategists at BMO Capital Markets.',\n",
       "   'Market participants tossed up a number of reasons for yields to swing higher including the Federal Reserve’s recent hawkish stance and investors who are overextended on bets wagering yields to slip lower. The 10-year bond yield TMUBMUSD10Y, -0.08% and the 30-year bond yield TMUBMUSD30Y, +0.19% have both climbed around 10 basis points since Wednesday, their largest two-day jump since December, according to WSJ Market Data.',\n",
       "   'Bond prices move inversely to yields.',\n",
       "   'The Federal Reserve’s most influential members, New York Fed President William Dudley and Fed Chairwoman Janet Yellen, have justified the central bank’s hawkish stance in recent speeches, arguing that inflation would eventually hit its 2% target and that raising rates now would be prudent in the face of tight labor markets, which if left unattended, could drive inflation higher.',\n",
       "   '“We’ve got so many central bank speakers in the last two days, no one really sounded dovish. There’s tinges of coordinated central bank discussions,” said Marvin Loh, senior fixed-income strategist at BNY Mellon, on Wednesday.',\n",
       "   'The momentum appears to have shifted in favor of the bond bears. Earlier in September, speculators’ net position in 10-year Treasury futures was bullish, meaning the majority of investors were betting on long-dated yields to rise rather than fall. But in a more recent survey of investor positioning by J.P. Morgan on Sept. 25, the share of fund managers, central bankers and hedge funds holding more long-dated Treasurys compared to their benchmark index’s allocation had fallen.',\n",
       "   '“Investors have been caught offside by the Fed’s recent hawkishness despite low inflation,“ said Gene Tannuzzo, senior portfolio manager at Columbia Threadneedle.',\n",
       "   'Yet last week, when the Fed first displayed its hawkish feathers in the policy statement, long-dated yields had shrugged. Though most of the members voted for a rate hike in December and the dot-plot forecasts stayed unchanged for 2017 and 2018, only the shorter two-year note yield TMUBMUSD02Y, -1.60% rose sharply. This caused the yield curve, a graph charting maturities against yields, to flatten.',\n",
       "   'It’s why some analysts think the bond buying in the long end of the curve was overdone before the meeting. Immediately after the meeting, the spread between the 5-year yield and the 30-year yield, one gauge of the curve’s steepness, narrowed to 0.53% on Thursday, the tightest since June.',\n",
       "   '“Ultimately, it might just be the yield curve flattened too much, too quickly,” said Loh.',\n",
       "   'Investors still feel the brunt of the selling was driven by tax reform, if only because expectations for Trump’s proposals had fallen so much that any sign of progress would have led to a backlash in Treasurys. Andy Richman, a fund manager for SunTrust Advisory Services, said investors were complacent and had priced out tax reform altogether.',\n",
       "   'The bear steepening of the yield curve, when longer-dated yields rise much faster than shorter-dated yields thanks to stronger inflation expectations, suggested it was hopes for tax cuts instead of Fed hawkishness driving the recent action, said Eric Stein, co-director of global income at Eaton Vance.',\n",
       "   'The U.S. Treasurys market has been linked to the ebb and flow of expectations for fiscal reform. Since Trump’s inauguration on Jan. 20, the downtrend in the benchmark 10-year yield reflected a “tremendous unwind of optimism around fiscal policy,” said Tannuzzo.',\n",
       "   'Trump’s approval ratings, a proxy for his legislative priorities getting enacted in Congress, have fallen in line with the slipping 10-year Treasury yield, according to Goldman Sachs’ analysts.',\n",
       "   'Yet for the most part, expectations are close to bottoming out. Even after new details of the Republican proposals were unveiled Wednesday, a few jaded analysts said the mid-week selloff would dissipate in the way that the post-election jump in yields unwound over the course of 2017. Lyngen & Kohli argue it was difficult to imagine Trump’s tax reform would push the 10-year Treasury yield as high as 2.40%.',\n",
       "   '“We’re apprehensive that the market can backup that far on the GOP’s tax plan alone – if for no other reason than it’s simply the opening position in what promises to be a long and drawn out negotiation, which we struggle to imagine results in the passage of anything comparable to the current ‘wish list’,” they said.',\n",
       "   'Nonetheless, a few investors are cautiously optimistic as certain aspects of Trump’s tax plan might prove palatable to Democrats. “There’s a decent shot of passing in some semblance of the current form,” said Stein, highlighting that the proposed corporate tax cuts from 35% to 20% would attract less opposition from across the aisle.',\n",
       "   'If Trump scores a major legislative priority, it could put the so-called reflation trade back on track. This refers to how Treasury yields had jumped earlier in the year in anticipation that Trump’s pro-growth agenda would drag inflation higher.'],\n",
       "  'url': 'http://www.marketwatch.com/story/is-trumps-tax-proposal-driving-the-bond-market-selloff-2017-09-27'},\n",
       " 'Russell 2000 jumps to record, on track for best day since June': {'content': ['The Russell 2000 rallied on Tuesday, hitting an intraday record in what was on track to be its biggest one-day percentage gain since June.',\n",
       "   'The index of small-cap companies RUT, +0.27% gained 1.5% to 1,479.32 and was set for its fourth straight daily rise, as well as its best day since June 28. The index was at an all-time high, bringing its year-to-date advance to 9%. The index was the strongest performer of the day; the S&P 500 SPX, +0.12% was 0.3% higher while the Dow Jones Industrial Average DJIA, +0.18% added 0.1%. The Nasdaq Composite Index COMP, +0.00% rose 1.1%.',\n",
       "   'While small-caps have had rough patches this year, dropping between mid-July and mid-August, they have since staged a powerful rebound, gaining nearly 10% since a low hit last month. In September alone, they have gained 5.8%, compared with the 1.4% rise of the S&P 500.',\n",
       "   'here are a number of reasons for the recent outperformance in small-cap stocks, including a rising U.S. dollar. A stronger dollar tends to hurt the profitability of large-cap companies, which tend to have a multinational footprint. The U.S. dollar index DXY, -0.37% rose 0.4% on Tuesday and is up 1.2% thus far this week.',\n",
       "   'Separately, central bank policy is expected to be supportive for equities. On Monday, Federal Reserve Chairwoman Janet Yellen said the central bank won’t dawdle while raising interest rates.',\n",
       "   'In addition, small companies are expected to benefit more if the tax reform plan just unveiled by congressional Republicans is enacted.',\n",
       "   'The iShares Russell 2000 ETF IWM, +0.26% an exchange-traded fund that tracks the index, has seen inflows of $1.3 billion thus far this year, making it one of the most popular U.S.-listed funds of 2017.'],\n",
       "  'url': 'http://www.marketwatch.com/story/russell-2000-jumps-to-record-on-track-for-best-day-since-june-2017-09-27'},\n",
       " 'The ‘old school’ reason why you haven’t missed the tech melt-up': {'content': ['As September draws to a close, it’s clear that mighty tech has been knocked off its high horse just a little.',\n",
       "   'While the DJIA DJIA, +0.18% and S&P 500 SPX, +0.12% look set to log 1%-plus gains for the month, the tech sector is looking at a roughly 0.8% loss. But that’s after months of domination. Everyone gets a turn at the top, right?',\n",
       "   'For some investors this minor pullback may have offered a chance to get back into a market whose ascent has made a few out there jittery. After all, October is coming.',\n",
       "   'The rationale for that call, from Daily Wealth’s Steve Sjuggerud, lies in the 12-month performance of the Nasdaq COMP, +0.00% versus the Dow industrials DJIA, +0.18% which at the time of print he noted was a gain of 22.6%, versus 25.5%, respectively.',\n",
       "   '“This tells me that you haven’t missed the true Melt Up stage yet – where the most speculative names separate themselves from the old-school names and take off,” he said, adding that there’s some historical precedent here.',\n",
       "   'In 1999, for almost half of the last year of the tech boom, tech names and the DJIA’s big hitters were running neck and neck. However, by the end of the last 12 months of that tech melt-up, the Nasdaq what was up more than 100%, versus a 0% return for the DJIA, Sjuggerud said. Read his full blog here.',\n",
       "   'Naturally, investors should remember what came next — a vicious downturn stretching from March 2000 until October 2002, that more than cut Nasdaq gains in half.',\n",
       "   'Stocks are higher at the start, led by the Nasdaq COMP, +0.00% , with the S&P 500 SPX, +0.12% and Dow DJIA, +0.18% also in the black.',\n",
       "   'Today has largely been about the dollar DXY, -0.37% whose strength is helping push gold GCZ7, +0.16% below $1,300. Rate-hike talk from Fed Chairwoman Janet Yellen yesterday is feeding gains for the buck, which is steam-rolling over the euro EURUSD, -0.0085% and the pound GBPUSD, +0.0074% this morning. A weak single currency is giving Europe stocks SXXP, +0.19% a boost.',\n",
       "   'Crude CLZ7, -0.99% is backing up a bit. Asia ADOW, -0.50% closed mixed.',\n",
       "   'See the Market Snapshot column for more.',\n",
       "   'Bitcoin BTCUSD, -0.58% is cruising on past that $4,000 mark as we speak, but another fork in the road could be coming soon.',\n",
       "   'Check out MarketWatch’s “YouTube channels for investors to watch now” roundup.',\n",
       "   'Did Apple shares bottom this week? Mott Capital Management’s Michael Kramer seems to think so. Shares closed up more than 1% yesterday, breaking a string of losing sessions. And shares could hit $160 “before running into trouble again for the time being,” blogged Kramer',\n",
       "   'In the tech giant’s corner, analysts largely haven’t cut revenue estimates even amid some concerns over demand for new iPhone models. “One would certainly think these numbers should have started coming down substantially if that were the case,” said Kramer.',\n",
       "   'Sportswear giant Nike NKE, -0.08% is taking a hit from disappointing revenue after results late Tuesday.',\n",
       "   'Also reporting late, Micron MU, +2.35% is up ahead Wednesday’s bell after the chip maker’s better-than-expected earnings.',\n",
       "   'That crackling in the iPhone earpiece? A fix is on the way, says Apple .',\n",
       "   'President Donald Trump has promised a big tax announcement for Wednesday. Among other things, it’s expected to include a plan to cut the corporate tax rate to 20% from 35%, but, alas, the how-to details may be thin.',\n",
       "   'Elsewhere in politics, “firebrand”, gun-toting Roy Moore beat POTUS-backed Luther Strange in a Republican primary runoff n Alabama for a U.S. Senate seat last night. The president offered his congrats and then somehow, his prior tweets backing Strange got deep-sixed.',\n",
       "   'If you delete the tweet it never happened. It is known.',\n",
       "   'Saudi women finally have the legal right to drive, and social media is spilling over with congrats, some of which include this stirring image:',\n",
       "   'Congratulations to all women in Saudi Arabia! The ban on driving will be lifted next year & all women will have the right to drive #Progress pic.twitter.com/Zsc7gbMR8n',\n",
       "   'Check out MarketWatch’s “YouTube channels for investors to watch now” roundup.',\n",
       "   'Among the 10 sector SPDR ETFs, the energy fund XLE, +0.09% is showing the biggest month-to-date gain with an advance of 8.21%, though it’s still in last place on a year-to-date basis, down 9.53%.',\n",
       "   'Durable goods orders jumped 1.7%, with data on pending home sales due at 10 a.m..',\n",
       "   'And more Fed speakers to come — Minneapolis Fed Pres. Neel Kashkari at 9:15 a.m., St Louis Fed Pres. James Bullard at 1:30 p.m., Fed Gov. Lael Brainard at 2 p.m. and Boston Fed Pres. Eric Rosengren at 7 p.m.',\n",
       "   \"And in one stroke, Twitter doubles the complexity of our nation's foreign policy.\",\n",
       "   'The talk-show host’s tweet is just a taste of the carping after Twitter said it will test doubling its character limit to 280 characters. Bring it, said CEO Jack Dorsey, who is apparently “still getting used to it.”:',\n",
       "   'We expected (and ❤️!) all the snark & critique for #280characters. Comes with the job. What matters now is we clearly show why this change is important, and prove to you all it’s better. Give us some time to learn and confirm (or challenge!) our ideas. https://t.co/qJrzzIluMw',\n",
       "   'Fair. I’m still getting used to it. https://t.co/nVCtVGh3Nh',\n",
       "   '140 character twitter vs. 280 character twitter. pic.twitter.com/zQr5UrBZNG',\n",
       "   'Puerto Rico officials plead for more aid, faster, as death toll rises',\n",
       "   'Meanwhile, both Mark Cuban and Pitbull sent private planes to the devastated island to help out',\n",
       "   'In Venezuela, women turn to the oldest profession in the world, just to feed their kids',\n",
       "   'Over 40? Silicon Valley is not exactly rolling out the welcome mat',\n",
       "   'Mystery of Otto Warmbier’s death in North Korea deepens after coroner’s report',\n",
       "   'Eagles quarterback Carson Wentz mic’d up, bets his paycheck on a field goal',\n",
       "   'Serial-killing, cannibalistic Russian couple...click if you can stomach it',\n",
       "   'Pig on the run...',\n",
       "   'Rogue pig disrupts the morning commute in Virginia: \"Just another day at the office,\" police said. https://t.co/gB2Q66aB9O pic.twitter.com/U19rTj3Aqr'],\n",
       "  'url': 'http://www.marketwatch.com/story/the-old-school-reason-why-you-havent-missed-the-tech-melt-up-2017-09-27'},\n",
       " 'U.K. stocks log slight gains as bank shares rally on interest-rate hopes': {'content': ['The U.K. stock market posted slight gains in muted action on Thursday, although banks shares proved a standout, finishing higher on hopes of a lift in interest rates in the U.K. and the U.S.',\n",
       "   'Shares of Barclays PLC BARC, +1.02% BCS, +1.08% closed up 1%, Standard Chartered PLC STAN, +1.08% picked up 1.1% and HSBC Holdings PLC HSBA, +0.25% HSBC, +0.70% 0005, +0.00% tacked on 0.2%.',\n",
       "   'The benchmark FTSE 100 index UKX, +0.13% closed up 0.1% at 7,322.82 after a choppy session.',\n",
       "   'Haldane also reiterated the message from the BOE’s September meeting that “we could be nearing the point where a reduction in some degree of monetary stimulus might be warranted in the coming months.”',\n",
       "   'Higher rates tend to boost the banking sector as it means banks can charge more for their loans. Across the pond, expectations for a rate hike in 2017 are also up after Federal Reserve Chairwoman Janet Yellen said this week it would be “imprudent” to leave monetary policy on hold for too long. That helped push U.K. bank stocks rise during Wednesday’s session.',\n",
       "   'After London trading closed Wednesday, Boston Fed President Eric Rosengren said he backs ‘regular and gradual’ interest-rate rises. Meanwhile, U.S. President Donald Trump’s tax cuts proposal presented on Wednesday was also seen as reinforcing expectations for a rate rise in December.',\n",
       "   'In London, shares of building materials supplier CRH PLC CRH, +2.92% and equipment-rental company Ashtead PLC AHT, +2.39% picked up 2.4% and 2.2%, respectively.',\n",
       "   'The shares “are being helped by Donald Trump’s plans to make the U.S. tax system more pro-business. Both companies derive are large amount of their revenue in the U.S., and a more business-focused U.S. economy could see both companies ramp up earnings,” said CMC Markets analysts David Madden in a note.',\n",
       "   'The “FTSE continued to lack any momentum whatsoever, sitting flat just above the 7,300 mark. To be fair, on the U.K.’s most pressing concern—Brexit—the pound and FTSE received some seriously mixed messages this Thursday,” said Connor Campbell, financial analyst at Spreadex, in a note.',\n",
       "   '“[U.K. Brexit Secretary] David Davis claimed that ‘decisive steps forward had been made’ during the latest round of negotiations, only for his EU counterpart Michel Barnier to argue that they were ‘not there yet in terms of achieving significant progress,’” said Campbell.',\n",
       "   'Shares of Imperial Brands PLC IMB, -4.02% IMBBY, -4.00% stumbled 4%. The tobacco company said it’s on track to meet its full-year targets and that it’s working on a rescue deal for struggling wholesaler Palmer & Harvey Holdings PLC.',\n",
       "   'TUI AG TUI, -0.24% slipped 0.2% after the travel operator said recent hurricanes had affected its Caribbean operations. The company, however, still backed its 2017 fiscal guidance and said the summer 2017 season is closing out almost fully sold at 97%.',\n",
       "   'On the FTSE 250 index MCX, +0.56% Balfour Beatty PLC BBY, +5.63% climbed 5.6% after Peel Hunt upgraded the construction services company’s rating to buy, saying management has significantly reduced investment-related risks.',\n",
       "   'Shares of Stagecoach Group PLC SGC, +2.50% advanced 2.5% after the transportation group reaffirmed its per-share profit guidance.',\n",
       "   'The FTSE 250 closed up 0.6% at 19,678.46.'],\n",
       "  'url': 'http://www.marketwatch.com/story/banks-continue-to-rise-in-otherwise-downbeat-uk-stock-market-2017-09-28'}}"
      ]
     },
     "execution_count": 8,
     "metadata": {},
     "output_type": "execute_result"
    }
   ],
   "source": [
    "articles"
   ]
  },
  {
   "cell_type": "code",
   "execution_count": 9,
   "metadata": {
    "collapsed": true
   },
   "outputs": [],
   "source": [
    "for name, attrs in articles.items():\n",
    "    attrs['content'] = ''.join(attrs['content'])"
   ]
  },
  {
   "cell_type": "code",
   "execution_count": 14,
   "metadata": {},
   "outputs": [],
   "source": [
    "for name, attrs in articles.items():\n",
    "    attrs['content'] = re.sub(r'\\.([A-Z])', r'. \\1', attrs['content'])"
   ]
  },
  {
   "cell_type": "code",
   "execution_count": 17,
   "metadata": {
    "scrolled": true
   },
   "outputs": [
    {
     "name": "stdout",
     "output_type": "stream",
     "text": [
      "Gold edges up from a 6-week low\n",
      "European stocks notch 2-month high, but bank stocks pare heftier gain\n",
      "U.K. stocks log slight gains as bank shares rally on interest-rate hopes\n",
      "Is Trump’s tax overhaul driving the selloff in Treasurys?\n",
      "Fed’s Rosengren backs ‘regular and gradual’ interest-rate hikes\n",
      "Dow snaps 4-day losing streak; financials, tax-cut hopes provide lift\n",
      "Dollar index hits 1-month high as Republican tax-plan details emerge\n",
      "10-year Treasury yield jumps most in six months as details of tax reform emerge\n",
      "Russell 2000 jumps to record, on track for best day since June\n",
      "Gold marks fresh September low as dollar gains\n",
      "Fed’s Bullard sees no need to raise interest rates anytime soon\n",
      "European stocks jump to 10-week high as banks rally\n",
      "FTSE 100 breaks 2-day losing run as pound slides\n",
      "Financial ETF surges to a decade high as Fed, data help boost Treasury yields\n",
      "The ‘old school’ reason why you haven’t missed the tech melt-up\n"
     ]
    }
   ],
   "source": [
    "for a in articles.keys():\n",
    "    print(a)"
   ]
  },
  {
   "cell_type": "code",
   "execution_count": null,
   "metadata": {
    "collapsed": true
   },
   "outputs": [],
   "source": []
  },
  {
   "cell_type": "code",
   "execution_count": 11,
   "metadata": {
    "collapsed": true
   },
   "outputs": [],
   "source": [
    "#econ_politics_selector = '//a[contains(text(), \"Economy & Politics\")]'\n",
    "#driver.find_element_by_xpath(econ_politics_selector).click()"
   ]
  },
  {
   "cell_type": "code",
   "execution_count": 12,
   "metadata": {
    "collapsed": true
   },
   "outputs": [],
   "source": [
    "#the_fed = '//a[@href=\"/federal-reserve\"]'\n",
    "#driver.find_element_by_xpath(the_fed).click()"
   ]
  }
 ],
 "metadata": {
  "kernelspec": {
   "display_name": "Python [default]",
   "language": "python",
   "name": "python3"
  },
  "language_info": {
   "codemirror_mode": {
    "name": "ipython",
    "version": 3
   },
   "file_extension": ".py",
   "mimetype": "text/x-python",
   "name": "python",
   "nbconvert_exporter": "python",
   "pygments_lexer": "ipython3",
   "version": "3.6.2"
  }
 },
 "nbformat": 4,
 "nbformat_minor": 2
}
