{
 "cells": [
  {
   "cell_type": "markdown",
   "metadata": {},
   "source": [
    "# Scrape Federal Reserve calendar events"
   ]
  },
  {
   "cell_type": "markdown",
   "metadata": {},
   "source": [
    "This notebook scrapes the Fed's calendar for June through September. Events include speeches, FOMC meetings, testimonies, Beige Book, and statistical releases. Each event has a daily counter. I would have generalized this process into a function/class, however, in the interest of time, I was relegated to simply copying and pasting each month's scraping process. Additionally, no two months were the same in the composition of their events, which made it even harder to generalize."
   ]
  },
  {
   "cell_type": "markdown",
   "metadata": {},
   "source": [
    "### Import relevant libraries"
   ]
  },
  {
   "cell_type": "code",
   "execution_count": null,
   "metadata": {
    "collapsed": true
   },
   "outputs": [],
   "source": [
    "from bs4 import BeautifulSoup\n",
    "import requests\n",
    "import pandas as pd\n",
    "import numpy as np\n",
    "from datetime import datetime\n",
    "import re\n",
    "\n",
    "from collections import Counter\n",
    "import itertools\n",
    "import string"
   ]
  },
  {
   "cell_type": "markdown",
   "metadata": {},
   "source": [
    "### Get urls for each month (federalreserve.gov/newsevents)"
   ]
  },
  {
   "cell_type": "code",
   "execution_count": null,
   "metadata": {
    "collapsed": true
   },
   "outputs": [],
   "source": [
    "months = ['june', 'july', 'august', 'september']\n",
    "\n",
    "urls = []\n",
    "for m in months:\n",
    "    urls.append('https://www.federalreserve.gov/newsevents/2017-'+ m + '.htm')"
   ]
  },
  {
   "cell_type": "markdown",
   "metadata": {},
   "source": [
    "The process for each month is fairly straightforward and uniform. The body of the page is converted to text and then each div tag is iterated through. Every instance of a subheading adds to a counter, which adds the subsequent events to their repsective lists. From here, each list is converted to a pandas dataframe and all of these are merged into one monthly dataframe of all events."
   ]
  },
  {
   "cell_type": "markdown",
   "metadata": {},
   "source": [
    "## September"
   ]
  },
  {
   "cell_type": "code",
   "execution_count": null,
   "metadata": {
    "collapsed": true,
    "scrolled": true
   },
   "outputs": [],
   "source": [
    "month = 'September'\n",
    "url = 'https://www.federalreserve.gov/newsevents/2017-september.htm'\n",
    "\n",
    "soup = BeautifulSoup(requests.get(url).text, 'html.parser')\n",
    "textlist = []\n",
    "for i in soup.find(class_='col-xs-12 col-sm-8 col-md-8').find_all(class_='row'):\n",
    "    textlist.append(i.text.replace('\\n', ''))\n",
    "\n",
    "\n",
    "page = [month, [], [], [], []]\n",
    "i = 0\n",
    "for ind, x in enumerate(textlist):\n",
    "    x = x.replace('.', '').split('-')\n",
    "\n",
    "    if x[0] in ['Speeches ', 'FOMC Meetings ', 'Beige Book ', 'Statistical Releases ', 'Other ']:\n",
    "        i += 1\n",
    "\n",
    "    elif i > 4:\n",
    "        break\n",
    "\n",
    "    elif 'Time' in x[0]:\n",
    "        pass\n",
    "\n",
    "    else:\n",
    "        y = re.findall(r'\\d*', x[-1])\n",
    "        y = [j for j in y if j.isdigit()]\n",
    "        if ind%2 == 0:\n",
    "            if i < 4:\n",
    "                page[i].append(y[-1])\n",
    "            else:\n",
    "                page[i].append(y)\n",
    "\n",
    "page[4] = list(itertools.chain.from_iterable(page[4]))\n",
    "\n",
    "speeches = []\n",
    "date = []\n",
    "count = Counter(page[1])\n",
    "for k,v in count.items():\n",
    "    date.append(month + ' ' + k + ' 2017')\n",
    "    speeches.append(v)\n",
    "df_speeches = pd.DataFrame({'date': date, 'speeches': speeches})\n",
    "\n",
    "fomc = []\n",
    "date = []\n",
    "count = Counter(page[2])\n",
    "for k,v in count.items():\n",
    "    date.append(month + ' ' + k + ' 2017')\n",
    "    fomc.append(v)\n",
    "df_fomc = pd.DataFrame({'date': date, 'fomc': fomc})\n",
    "\n",
    "beige = []\n",
    "date = []\n",
    "count = Counter(page[3])\n",
    "for k,v in count.items():\n",
    "    date.append(month + ' ' + k + ' 2017')\n",
    "    beige.append(v)\n",
    "df_beige = pd.DataFrame({'date': date, 'beige': beige})\n",
    "\n",
    "\n",
    "releases = []\n",
    "date = []\n",
    "count = Counter(page[4])\n",
    "for k,v in count.items():\n",
    "    date.append(month + ' ' + k + ' 2017')\n",
    "    releases.append(v)\n",
    "df_releases = pd.DataFrame({'date': date, 'releases': releases})\n",
    "\n",
    "dfs = [df_speeches, df_fomc, df_beige, df_releases]\n",
    "\n",
    "df = pd.concat(dfs).groupby('date').sum().fillna(0).reset_index()\n",
    "df['date'] = df['date'].apply(lambda x: datetime.strptime(x, '%B %d %Y'))\n",
    "\n",
    "df = df.set_index('date')\n",
    "\n",
    "dflist.append(df)"
   ]
  },
  {
   "cell_type": "markdown",
   "metadata": {},
   "source": [
    "## August"
   ]
  },
  {
   "cell_type": "code",
   "execution_count": null,
   "metadata": {
    "collapsed": true
   },
   "outputs": [],
   "source": [
    "month = 'August'\n",
    "url = 'https://www.federalreserve.gov/newsevents/2017-august.htm'\n",
    "\n",
    "soup = BeautifulSoup(requests.get(url).text, 'html.parser')\n",
    "textlist = []\n",
    "for i in soup.find(class_='col-xs-12 col-sm-8 col-md-8').find_all(class_='row'):\n",
    "    textlist.append(i.text.replace('\\n', ''))\n",
    "\n",
    "\n",
    "page = [month, [], [], []]\n",
    "i = 0\n",
    "for ind, x in enumerate(textlist):\n",
    "    x = x.replace('.', '').split('-')\n",
    "\n",
    "    if x[0] in ['Speeches ', 'FOMC Meetings ', 'Beige Book ', 'Statistical Releases ', 'Other ']:\n",
    "        i += 1\n",
    "\n",
    "    elif i > 3:\n",
    "        break\n",
    "\n",
    "    elif 'Time' in x[0]:\n",
    "        pass\n",
    "\n",
    "    else:\n",
    "        y = re.findall(r'\\d*', x[-1])\n",
    "        y = [j for j in y if j.isdigit()]\n",
    "        if ind%2 == 0:\n",
    "            if i < 3:\n",
    "                page[i].append(y[0])\n",
    "            else:\n",
    "                page[i].append(y)\n",
    "\n",
    "page[3] = list(itertools.chain.from_iterable(page[3]))\n",
    "\n",
    "speeches = []\n",
    "date = []\n",
    "count = Counter(page[1])\n",
    "for k,v in count.items():\n",
    "    date.append(month + ' ' + k + ' 2017')\n",
    "    speeches.append(v)\n",
    "df_speeches = pd.DataFrame({'date': date, 'speeches': speeches})\n",
    "\n",
    "fomc = []\n",
    "date = []\n",
    "count = Counter(page[2])\n",
    "for k,v in count.items():\n",
    "    date.append(month + ' ' + k + ' 2017')\n",
    "    fomc.append(v)\n",
    "df_fomc = pd.DataFrame({'date': date, 'fomc': fomc})\n",
    "\n",
    "releases = []\n",
    "date = []\n",
    "count = Counter(page[3])\n",
    "for k,v in count.items():\n",
    "    date.append(month + ' ' + k + ' 2017')\n",
    "    releases.append(v)\n",
    "df_releases = pd.DataFrame({'date': date, 'releases': releases})\n",
    "\n",
    "dfs = [df_speeches, df_fomc, df_releases]\n",
    "\n",
    "df = pd.concat(dfs).groupby('date').sum().fillna(0).reset_index()\n",
    "df.date.replace({'August 201716 2017': 'August 16 2017'}, inplace=True)\n",
    "df['date'] = df['date'].apply(lambda x: datetime.strptime(x, '%B %d %Y'))\n",
    "\n",
    "df = df.set_index('date')\n",
    "\n",
    "dflist.append(df)"
   ]
  },
  {
   "cell_type": "markdown",
   "metadata": {},
   "source": [
    "## July"
   ]
  },
  {
   "cell_type": "code",
   "execution_count": null,
   "metadata": {
    "collapsed": true
   },
   "outputs": [],
   "source": [
    "month = 'July'\n",
    "url = 'https://www.federalreserve.gov/newsevents/2017-july.htm'\n",
    "\n",
    "soup = BeautifulSoup(requests.get(url).text, 'html.parser')\n",
    "textlist = []\n",
    "for i in soup.find(class_='col-xs-12 col-sm-8 col-md-8').find_all(class_='row'):\n",
    "    textlist.append(i.text.replace('\\n', ''))\n",
    "\n",
    "\n",
    "page = [month, [], [], [], [], []]\n",
    "i = 0\n",
    "for ind, x in enumerate(textlist):\n",
    "    x = x.replace('.', '').split('-')\n",
    "\n",
    "    if x[0] in ['Speeches ', 'Testimony ', 'FOMC Meetings ', 'Beige Book ', 'Statistical Releases ', 'Other ']:\n",
    "        i += 1\n",
    "\n",
    "    elif i > 5:\n",
    "        break\n",
    "\n",
    "    elif 'Time' in x[0]:\n",
    "        pass\n",
    "\n",
    "    else:\n",
    "        y = re.findall(r'\\d*', x[-1])\n",
    "        y = [j for j in y if j.isdigit()]\n",
    "        if ind%2 == 0:\n",
    "            if i < 5:\n",
    "                page[i].append(y[-1])\n",
    "            else:\n",
    "                page[i].append(y)\n",
    "\n",
    "                \n",
    "page[5] = list(itertools.chain.from_iterable(page[5]))\n",
    "\n",
    "\n",
    "speeches = []\n",
    "date = []\n",
    "count = Counter(page[1])\n",
    "for k,v in count.items():\n",
    "    date.append(month + ' ' + k + ' 2017')\n",
    "    speeches.append(v)\n",
    "df_speeches = pd.DataFrame({'date': date, 'speeches': speeches})\n",
    "\n",
    "fomc = []\n",
    "date = []\n",
    "count = Counter(page[2])\n",
    "for k,v in count.items():\n",
    "    date.append(month + ' ' + k + ' 2017')\n",
    "    fomc.append(v)\n",
    "df_fomc = pd.DataFrame({'date': date, 'fomc': fomc})\n",
    "\n",
    "beige = []\n",
    "date = []\n",
    "count = Counter(page[3])\n",
    "for k,v in count.items():\n",
    "    date.append(month + ' ' + k + ' 2017')\n",
    "    beige.append(v)\n",
    "df_beige = pd.DataFrame({'date': date, 'beige': beige})\n",
    "\n",
    "testimonies = []\n",
    "date = []\n",
    "count = Counter(page[4])\n",
    "for k,v in count.items():\n",
    "    date.append(month + ' ' + k + ' 2017')\n",
    "    testimonies.append(v)\n",
    "df_testimonies = pd.DataFrame({'date': date, 'testimonies': testimonies})\n",
    "\n",
    "\n",
    "releases = []\n",
    "date = []\n",
    "count = Counter(page[5])\n",
    "for k,v in count.items():\n",
    "    date.append(month + ' ' + k + ' 2017')\n",
    "    releases.append(v)\n",
    "df_releases = pd.DataFrame({'date': date, 'releases': releases})\n",
    "\n",
    "dfs = [df_speeches, df_fomc, df_beige, df_testimonies, df_releases]\n",
    "\n",
    "df = pd.concat(dfs).groupby('date').sum().fillna(0).reset_index()\n",
    "df.date.replace({'July 20175 2017': 'July 5 2017', 'July 2626 2017': 'July 26 2017'}, inplace=True)\n",
    "df['date'] = df['date'].apply(lambda x: datetime.strptime(x, '%B %d %Y'))\n",
    "\n",
    "df = df.set_index('date')\n",
    "\n",
    "dflist.append(df)"
   ]
  },
  {
   "cell_type": "markdown",
   "metadata": {},
   "source": [
    "## June"
   ]
  },
  {
   "cell_type": "code",
   "execution_count": null,
   "metadata": {
    "collapsed": true
   },
   "outputs": [],
   "source": [
    "month = 'June'\n",
    "url = 'https://www.federalreserve.gov/newsevents/2017-june.htm'\n",
    "\n",
    "soup = BeautifulSoup(requests.get(url).text, 'html.parser')\n",
    "textlist = []\n",
    "for i in soup.find(class_='col-xs-12 col-sm-8 col-md-8').find_all(class_='row'):\n",
    "    textlist.append(i.text.replace('\\n', ''))\n",
    "\n",
    "\n",
    "page = [month, [], [], [], []]\n",
    "i = 0\n",
    "for ind, x in enumerate(textlist):\n",
    "    x = x.replace('.', '').split('-')\n",
    "\n",
    "    if x[0] in ['Speeches ', 'Testimony ', 'FOMC Meetings ', 'Beige Book ', 'Statistical Releases ', 'Other ']:\n",
    "        i += 1\n",
    "\n",
    "    elif i > 4:\n",
    "        break\n",
    "\n",
    "    elif 'Time' in x[0]:\n",
    "        pass\n",
    "\n",
    "    else:\n",
    "        y = re.findall(r'\\d*', x[-1])\n",
    "        y = [j for j in y if j.isdigit()]\n",
    "        if ind%2 == 1:\n",
    "            if i < 4:\n",
    "                page[i].append(y[-1])\n",
    "            else:\n",
    "                page[i].append(y)\n",
    "                \n",
    "page[4] = list(itertools.chain.from_iterable(page[4]))\n",
    "\n",
    "speeches = []\n",
    "date = []\n",
    "count = Counter(page[1])\n",
    "for k,v in count.items():\n",
    "    date.append(month + ' ' + k + ' 2017')\n",
    "    speeches.append(v)\n",
    "df_speeches = pd.DataFrame({'date': date, 'speeches': speeches})\n",
    "\n",
    "testimonies = []\n",
    "date = []\n",
    "count = Counter(page[2])\n",
    "for k,v in count.items():\n",
    "    date.append(month + ' ' + k + ' 2017')\n",
    "    testimonies.append(v)\n",
    "df_testimonies = pd.DataFrame({'date': date, 'testimonies': testimonies})\n",
    "\n",
    "fomc = []\n",
    "date = []\n",
    "count = Counter(page[3])\n",
    "for k,v in count.items():\n",
    "    date.append(month + ' ' + k + ' 2017')\n",
    "    fomc.append(v)\n",
    "df_fomc = pd.DataFrame({'date': date, 'fomc': fomc})\n",
    "\n",
    "\n",
    "releases = []\n",
    "date = []\n",
    "count = Counter(page[4])\n",
    "for k,v in count.items():\n",
    "    date.append(month + ' ' + k + ' 2017')\n",
    "    releases.append(v)\n",
    "df_releases = pd.DataFrame({'date': date, 'releases': releases})\n",
    "\n",
    "dfs = [df_speeches, df_testimonies, df_fomc, df_releases]\n",
    "\n",
    "df = pd.concat(dfs).groupby('date').sum().fillna(0).reset_index()\n",
    "df.date.replace({'August 201716 2017': 'August 16 2017'}, inplace=True)\n",
    "df['date'] = df['date'].apply(lambda x: datetime.strptime(x, '%B %d %Y'))\n",
    "\n",
    "df = df.set_index('date')\n",
    "\n",
    "dflist.append(df)"
   ]
  },
  {
   "cell_type": "code",
   "execution_count": null,
   "metadata": {
    "collapsed": true
   },
   "outputs": [],
   "source": [
    "calendar = pd.concat(dflist).fillna(0)"
   ]
  },
  {
   "cell_type": "markdown",
   "metadata": {},
   "source": [
    "### Save calendar data"
   ]
  },
  {
   "cell_type": "code",
   "execution_count": null,
   "metadata": {
    "collapsed": true
   },
   "outputs": [],
   "source": [
    "import pickle\n",
    "\n",
    "with open('/Users/samfunk/ds/metis/project_luther/calendar.pkl', 'wb') as f:\n",
    "    pickle.dump(calendar, f)"
   ]
  },
  {
   "cell_type": "code",
   "execution_count": null,
   "metadata": {
    "collapsed": true
   },
   "outputs": [],
   "source": []
  },
  {
   "cell_type": "code",
   "execution_count": null,
   "metadata": {
    "collapsed": true
   },
   "outputs": [],
   "source": []
  }
 ],
 "metadata": {
  "kernelspec": {
   "display_name": "Python [default]",
   "language": "python",
   "name": "python3"
  },
  "language_info": {
   "codemirror_mode": {
    "name": "ipython",
    "version": 3
   },
   "file_extension": ".py",
   "mimetype": "text/x-python",
   "name": "python",
   "nbconvert_exporter": "python",
   "pygments_lexer": "ipython3",
   "version": "3.6.2"
  }
 },
 "nbformat": 4,
 "nbformat_minor": 2
}
